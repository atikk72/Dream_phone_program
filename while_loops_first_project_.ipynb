{
  "nbformat": 4,
  "nbformat_minor": 0,
  "metadata": {
    "colab": {
      "provenance": [],
      "mount_file_id": "12-u_pjyZKrqC5ToGq_VzbopJWOXAR5jD",
      "authorship_tag": "ABX9TyNqwFBj81QA/5RMzoFEiWyh",
      "include_colab_link": true
    },
    "kernelspec": {
      "name": "python3",
      "display_name": "Python 3"
    },
    "language_info": {
      "name": "python"
    }
  },
  "cells": [
    {
      "cell_type": "markdown",
      "metadata": {
        "id": "view-in-github",
        "colab_type": "text"
      },
      "source": [
        "<a href=\"https://colab.research.google.com/github/atikk72/Dream_phone_program/blob/main/while_loops_first_project_.ipynb\" target=\"_parent\"><img src=\"https://colab.research.google.com/assets/colab-badge.svg\" alt=\"Open In Colab\"/></a>"
      ]
    },
    {
      "cell_type": "code",
      "source": [
        "# Write a program which calculates your monthly saving each month till you save enough to buy your dream phone\n",
        "# which cost around 10000 using while loops\n",
        "\n",
        "current_saving=0\n",
        "phone_cost=5000\n",
        "while current_saving < phone_cost:\n",
        "  monthly_saving=input(\"your current monthly saving is :\")\n",
        "  current_saving=current_saving + int(monthly_saving)\n",
        "  print(\"you saved this month :\", str(current_saving))\n",
        "  if current_saving >= phone_cost:\n",
        "    print(f\" Congratulations :you have saved enough money to buy your dream phone: {current_saving }\")\n",
        "\n"
      ],
      "metadata": {
        "colab": {
          "base_uri": "https://localhost:8080/"
        },
        "id": "nE9qwo-T9pmb",
        "outputId": "a68f15bd-a37b-4f0d-dbe1-5b69552b27b5"
      },
      "execution_count": 32,
      "outputs": [
        {
          "output_type": "stream",
          "name": "stdout",
          "text": [
            "your current monthly saving is :500\n",
            "you saved this month : 500\n",
            "your current monthly saving is :200\n",
            "you saved this month : 700\n",
            "your current monthly saving is :1200\n",
            "you saved this month : 1900\n",
            "your current monthly saving is :1100\n",
            "you saved this month : 3000\n",
            "your current monthly saving is :1300\n",
            "you saved this month : 4300\n",
            "your current monthly saving is :400\n",
            "you saved this month : 4700\n",
            "your current monthly saving is :450\n",
            "you saved this month : 5150\n",
            " Congratulations :you have saved enough money to buy your dream phone: 5150\n"
          ]
        }
      ]
    },
    {
      "cell_type": "code",
      "source": [],
      "metadata": {
        "id": "0s-PcNOjKVBC"
      },
      "execution_count": null,
      "outputs": []
    },
    {
      "cell_type": "code",
      "source": [],
      "metadata": {
        "id": "eG9yiKqH_sw0"
      },
      "execution_count": 15,
      "outputs": []
    }
  ]
}